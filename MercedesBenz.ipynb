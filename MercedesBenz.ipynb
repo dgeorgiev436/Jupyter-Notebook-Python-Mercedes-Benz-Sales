{
  "nbformat": 4,
  "nbformat_minor": 0,
  "metadata": {
    "colab": {
      "name": "MercedesBenz.ipynb",
      "provenance": [],
      "collapsed_sections": [],
      "authorship_tag": "ABX9TyNtIyiFI31SCF9G5VHXHFla",
      "include_colab_link": true
    },
    "kernelspec": {
      "name": "python3",
      "display_name": "Python 3"
    },
    "language_info": {
      "name": "python"
    }
  },
  "cells": [
    {
      "cell_type": "markdown",
      "metadata": {
        "id": "view-in-github",
        "colab_type": "text"
      },
      "source": [
        "<a href=\"https://colab.research.google.com/github/dgeorgiev436/Jupyter-Notebook-Python-Mercedes-Benz-Sales/blob/main/MercedesBenz.ipynb\" target=\"_parent\"><img src=\"https://colab.research.google.com/assets/colab-badge.svg\" alt=\"Open In Colab\"/></a>"
      ]
    },
    {
      "cell_type": "markdown",
      "source": [
        "# **Mercedes Benz CL and SL class sales**"
      ],
      "metadata": {
        "id": "iIt32INKYjmv"
      }
    },
    {
      "cell_type": "markdown",
      "source": [
        "## Importing necessary libraries"
      ],
      "metadata": {
        "id": "2KAimfQd2XOk"
      }
    },
    {
      "cell_type": "code",
      "execution_count": null,
      "metadata": {
        "id": "10Cmuy_Ft8rc"
      },
      "outputs": [],
      "source": [
        "# Import pandas library which will be used for data structures and operations\n",
        "import pandas as pd\n",
        "from pandas import *\n",
        "from datetime import datetime\n",
        "# Import matplotlib.pyplot and seaborn libraries which will be used for data visualisation\n",
        "import seaborn as sns\n",
        "import numpy as np\n",
        "import matplotlib.pyplot as plt"
      ]
    },
    {
      "cell_type": "markdown",
      "source": [
        "## Reading the data, creating a data frame and changing the date format"
      ],
      "metadata": {
        "id": "BtHxqxLh2gPt"
      }
    },
    {
      "cell_type": "code",
      "source": [
        "# Read the data and add to data frame\n",
        "data = pd.read_excel(\"MercedesBenz.xlsx\")\n",
        "# Format the date column\n",
        "data[\"date\"] = pd.to_datetime(data[\"date\"]).dt.strftime(\"%Y/%-m/%d\")\n",
        "# Create dataframe\n",
        "data = pd.DataFrame(data)\n",
        "# display the first 10 rows\n",
        "data.head(10)"
      ],
      "metadata": {
        "colab": {
          "base_uri": "https://localhost:8080/",
          "height": 427
        },
        "id": "GuHPVQ7YuSs4",
        "outputId": "8def8f05-6273-4aa1-cf6a-be96f8a2457e"
      },
      "execution_count": null,
      "outputs": [
        {
          "output_type": "execute_result",
          "data": {
            "text/html": [
              "\n",
              "  <div id=\"df-b615cff3-fc9c-4683-af26-3ba7d784d3e0\">\n",
              "    <div class=\"colab-df-container\">\n",
              "      <div>\n",
              "<style scoped>\n",
              "    .dataframe tbody tr th:only-of-type {\n",
              "        vertical-align: middle;\n",
              "    }\n",
              "\n",
              "    .dataframe tbody tr th {\n",
              "        vertical-align: top;\n",
              "    }\n",
              "\n",
              "    .dataframe thead th {\n",
              "        text-align: right;\n",
              "    }\n",
              "</style>\n",
              "<table border=\"1\" class=\"dataframe\">\n",
              "  <thead>\n",
              "    <tr style=\"text-align: right;\">\n",
              "      <th></th>\n",
              "      <th>date</th>\n",
              "      <th>c.class.average.price</th>\n",
              "      <th>unit.c</th>\n",
              "      <th>E.class.average.price</th>\n",
              "      <th>unit.e</th>\n",
              "      <th>s.class.average.price</th>\n",
              "      <th>unit.s</th>\n",
              "      <th>cl.class.average.price</th>\n",
              "      <th>unit.cl</th>\n",
              "      <th>sl.class.average.price</th>\n",
              "      <th>unit.sl</th>\n",
              "      <th>m.class.average.price</th>\n",
              "      <th>unit.m</th>\n",
              "    </tr>\n",
              "  </thead>\n",
              "  <tbody>\n",
              "    <tr>\n",
              "      <th>0</th>\n",
              "      <td>2006/5/01</td>\n",
              "      <td>38917</td>\n",
              "      <td>4329.0</td>\n",
              "      <td>61420</td>\n",
              "      <td>4070.0</td>\n",
              "      <td>101100</td>\n",
              "      <td>2526.0</td>\n",
              "      <td>132050</td>\n",
              "      <td>46.0</td>\n",
              "      <td>134225</td>\n",
              "      <td>1056.0</td>\n",
              "      <td>44900</td>\n",
              "      <td>2278.0</td>\n",
              "    </tr>\n",
              "    <tr>\n",
              "      <th>1</th>\n",
              "      <td>2006/6/01</td>\n",
              "      <td>38917</td>\n",
              "      <td>4250.0</td>\n",
              "      <td>61420</td>\n",
              "      <td>4213.0</td>\n",
              "      <td>101100</td>\n",
              "      <td>2407.0</td>\n",
              "      <td>132050</td>\n",
              "      <td>63.0</td>\n",
              "      <td>134225</td>\n",
              "      <td>866.0</td>\n",
              "      <td>44900</td>\n",
              "      <td>2601.0</td>\n",
              "    </tr>\n",
              "    <tr>\n",
              "      <th>2</th>\n",
              "      <td>2006/7/01</td>\n",
              "      <td>38917</td>\n",
              "      <td>5285.0</td>\n",
              "      <td>61420</td>\n",
              "      <td>4479.0</td>\n",
              "      <td>101100</td>\n",
              "      <td>2233.0</td>\n",
              "      <td>132050</td>\n",
              "      <td>52.0</td>\n",
              "      <td>134225</td>\n",
              "      <td>768.0</td>\n",
              "      <td>44900</td>\n",
              "      <td>2446.0</td>\n",
              "    </tr>\n",
              "    <tr>\n",
              "      <th>3</th>\n",
              "      <td>2006/8/01</td>\n",
              "      <td>38917</td>\n",
              "      <td>4652.0</td>\n",
              "      <td>61420</td>\n",
              "      <td>3955.0</td>\n",
              "      <td>101100</td>\n",
              "      <td>2427.0</td>\n",
              "      <td>132050</td>\n",
              "      <td>54.0</td>\n",
              "      <td>134225</td>\n",
              "      <td>713.0</td>\n",
              "      <td>44900</td>\n",
              "      <td>2312.0</td>\n",
              "    </tr>\n",
              "    <tr>\n",
              "      <th>4</th>\n",
              "      <td>2006/9/01</td>\n",
              "      <td>38917</td>\n",
              "      <td>4238.0</td>\n",
              "      <td>61420</td>\n",
              "      <td>4112.0</td>\n",
              "      <td>101100</td>\n",
              "      <td>2357.0</td>\n",
              "      <td>132050</td>\n",
              "      <td>41.0</td>\n",
              "      <td>134225</td>\n",
              "      <td>557.0</td>\n",
              "      <td>44900</td>\n",
              "      <td>2706.0</td>\n",
              "    </tr>\n",
              "    <tr>\n",
              "      <th>5</th>\n",
              "      <td>2006/10/01</td>\n",
              "      <td>38917</td>\n",
              "      <td>3784.0</td>\n",
              "      <td>61420</td>\n",
              "      <td>4895.0</td>\n",
              "      <td>101100</td>\n",
              "      <td>2518.0</td>\n",
              "      <td>132050</td>\n",
              "      <td>98.0</td>\n",
              "      <td>134225</td>\n",
              "      <td>554.0</td>\n",
              "      <td>44900</td>\n",
              "      <td>2770.0</td>\n",
              "    </tr>\n",
              "    <tr>\n",
              "      <th>6</th>\n",
              "      <td>2006/11/01</td>\n",
              "      <td>38917</td>\n",
              "      <td>4435.0</td>\n",
              "      <td>61420</td>\n",
              "      <td>4918.0</td>\n",
              "      <td>101100</td>\n",
              "      <td>2780.0</td>\n",
              "      <td>132050</td>\n",
              "      <td>391.0</td>\n",
              "      <td>134225</td>\n",
              "      <td>456.0</td>\n",
              "      <td>44900</td>\n",
              "      <td>3183.0</td>\n",
              "    </tr>\n",
              "    <tr>\n",
              "      <th>7</th>\n",
              "      <td>2006/12/01</td>\n",
              "      <td>38917</td>\n",
              "      <td>5197.0</td>\n",
              "      <td>61420</td>\n",
              "      <td>7116.0</td>\n",
              "      <td>101100</td>\n",
              "      <td>2987.0</td>\n",
              "      <td>132050</td>\n",
              "      <td>347.0</td>\n",
              "      <td>134225</td>\n",
              "      <td>539.0</td>\n",
              "      <td>44900</td>\n",
              "      <td>3889.0</td>\n",
              "    </tr>\n",
              "    <tr>\n",
              "      <th>8</th>\n",
              "      <td>2007/1/01</td>\n",
              "      <td>36650</td>\n",
              "      <td>3928.0</td>\n",
              "      <td>63443</td>\n",
              "      <td>3375.0</td>\n",
              "      <td>124750</td>\n",
              "      <td>2078.0</td>\n",
              "      <td>122825</td>\n",
              "      <td>258.0</td>\n",
              "      <td>136175</td>\n",
              "      <td>369.0</td>\n",
              "      <td>56040</td>\n",
              "      <td>2351.0</td>\n",
              "    </tr>\n",
              "    <tr>\n",
              "      <th>9</th>\n",
              "      <td>2007/2/01</td>\n",
              "      <td>36650</td>\n",
              "      <td>NaN</td>\n",
              "      <td>63443</td>\n",
              "      <td>NaN</td>\n",
              "      <td>124750</td>\n",
              "      <td>NaN</td>\n",
              "      <td>122825</td>\n",
              "      <td>NaN</td>\n",
              "      <td>136175</td>\n",
              "      <td>NaN</td>\n",
              "      <td>56040</td>\n",
              "      <td>NaN</td>\n",
              "    </tr>\n",
              "  </tbody>\n",
              "</table>\n",
              "</div>\n",
              "      <button class=\"colab-df-convert\" onclick=\"convertToInteractive('df-b615cff3-fc9c-4683-af26-3ba7d784d3e0')\"\n",
              "              title=\"Convert this dataframe to an interactive table.\"\n",
              "              style=\"display:none;\">\n",
              "        \n",
              "  <svg xmlns=\"http://www.w3.org/2000/svg\" height=\"24px\"viewBox=\"0 0 24 24\"\n",
              "       width=\"24px\">\n",
              "    <path d=\"M0 0h24v24H0V0z\" fill=\"none\"/>\n",
              "    <path d=\"M18.56 5.44l.94 2.06.94-2.06 2.06-.94-2.06-.94-.94-2.06-.94 2.06-2.06.94zm-11 1L8.5 8.5l.94-2.06 2.06-.94-2.06-.94L8.5 2.5l-.94 2.06-2.06.94zm10 10l.94 2.06.94-2.06 2.06-.94-2.06-.94-.94-2.06-.94 2.06-2.06.94z\"/><path d=\"M17.41 7.96l-1.37-1.37c-.4-.4-.92-.59-1.43-.59-.52 0-1.04.2-1.43.59L10.3 9.45l-7.72 7.72c-.78.78-.78 2.05 0 2.83L4 21.41c.39.39.9.59 1.41.59.51 0 1.02-.2 1.41-.59l7.78-7.78 2.81-2.81c.8-.78.8-2.07 0-2.86zM5.41 20L4 18.59l7.72-7.72 1.47 1.35L5.41 20z\"/>\n",
              "  </svg>\n",
              "      </button>\n",
              "      \n",
              "  <style>\n",
              "    .colab-df-container {\n",
              "      display:flex;\n",
              "      flex-wrap:wrap;\n",
              "      gap: 12px;\n",
              "    }\n",
              "\n",
              "    .colab-df-convert {\n",
              "      background-color: #E8F0FE;\n",
              "      border: none;\n",
              "      border-radius: 50%;\n",
              "      cursor: pointer;\n",
              "      display: none;\n",
              "      fill: #1967D2;\n",
              "      height: 32px;\n",
              "      padding: 0 0 0 0;\n",
              "      width: 32px;\n",
              "    }\n",
              "\n",
              "    .colab-df-convert:hover {\n",
              "      background-color: #E2EBFA;\n",
              "      box-shadow: 0px 1px 2px rgba(60, 64, 67, 0.3), 0px 1px 3px 1px rgba(60, 64, 67, 0.15);\n",
              "      fill: #174EA6;\n",
              "    }\n",
              "\n",
              "    [theme=dark] .colab-df-convert {\n",
              "      background-color: #3B4455;\n",
              "      fill: #D2E3FC;\n",
              "    }\n",
              "\n",
              "    [theme=dark] .colab-df-convert:hover {\n",
              "      background-color: #434B5C;\n",
              "      box-shadow: 0px 1px 3px 1px rgba(0, 0, 0, 0.15);\n",
              "      filter: drop-shadow(0px 1px 2px rgba(0, 0, 0, 0.3));\n",
              "      fill: #FFFFFF;\n",
              "    }\n",
              "  </style>\n",
              "\n",
              "      <script>\n",
              "        const buttonEl =\n",
              "          document.querySelector('#df-b615cff3-fc9c-4683-af26-3ba7d784d3e0 button.colab-df-convert');\n",
              "        buttonEl.style.display =\n",
              "          google.colab.kernel.accessAllowed ? 'block' : 'none';\n",
              "\n",
              "        async function convertToInteractive(key) {\n",
              "          const element = document.querySelector('#df-b615cff3-fc9c-4683-af26-3ba7d784d3e0');\n",
              "          const dataTable =\n",
              "            await google.colab.kernel.invokeFunction('convertToInteractive',\n",
              "                                                     [key], {});\n",
              "          if (!dataTable) return;\n",
              "\n",
              "          const docLinkHtml = 'Like what you see? Visit the ' +\n",
              "            '<a target=\"_blank\" href=https://colab.research.google.com/notebooks/data_table.ipynb>data table notebook</a>'\n",
              "            + ' to learn more about interactive tables.';\n",
              "          element.innerHTML = '';\n",
              "          dataTable['output_type'] = 'display_data';\n",
              "          await google.colab.output.renderOutput(dataTable, element);\n",
              "          const docLink = document.createElement('div');\n",
              "          docLink.innerHTML = docLinkHtml;\n",
              "          element.appendChild(docLink);\n",
              "        }\n",
              "      </script>\n",
              "    </div>\n",
              "  </div>\n",
              "  "
            ],
            "text/plain": [
              "         date   c.class.average.price  unit.c  E.class.average.price  unit.e  \\\n",
              "0   2006/5/01                   38917  4329.0                  61420  4070.0   \n",
              "1   2006/6/01                   38917  4250.0                  61420  4213.0   \n",
              "2   2006/7/01                   38917  5285.0                  61420  4479.0   \n",
              "3   2006/8/01                   38917  4652.0                  61420  3955.0   \n",
              "4   2006/9/01                   38917  4238.0                  61420  4112.0   \n",
              "5  2006/10/01                   38917  3784.0                  61420  4895.0   \n",
              "6  2006/11/01                   38917  4435.0                  61420  4918.0   \n",
              "7  2006/12/01                   38917  5197.0                  61420  7116.0   \n",
              "8   2007/1/01                   36650  3928.0                  63443  3375.0   \n",
              "9   2007/2/01                   36650     NaN                  63443     NaN   \n",
              "\n",
              "   s.class.average.price  unit.s  cl.class.average.price  unit.cl  \\\n",
              "0                 101100  2526.0                  132050     46.0   \n",
              "1                 101100  2407.0                  132050     63.0   \n",
              "2                 101100  2233.0                  132050     52.0   \n",
              "3                 101100  2427.0                  132050     54.0   \n",
              "4                 101100  2357.0                  132050     41.0   \n",
              "5                 101100  2518.0                  132050     98.0   \n",
              "6                 101100  2780.0                  132050    391.0   \n",
              "7                 101100  2987.0                  132050    347.0   \n",
              "8                 124750  2078.0                  122825    258.0   \n",
              "9                 124750     NaN                  122825      NaN   \n",
              "\n",
              "   sl.class.average.price  unit.sl  m.class.average.price  unit.m  \n",
              "0                  134225   1056.0                  44900  2278.0  \n",
              "1                  134225    866.0                  44900  2601.0  \n",
              "2                  134225    768.0                  44900  2446.0  \n",
              "3                  134225    713.0                  44900  2312.0  \n",
              "4                  134225    557.0                  44900  2706.0  \n",
              "5                  134225    554.0                  44900  2770.0  \n",
              "6                  134225    456.0                  44900  3183.0  \n",
              "7                  134225    539.0                  44900  3889.0  \n",
              "8                  136175    369.0                  56040  2351.0  \n",
              "9                  136175      NaN                  56040     NaN  "
            ]
          },
          "metadata": {},
          "execution_count": 133
        }
      ]
    },
    {
      "cell_type": "markdown",
      "source": [
        "## Remove NaN values and replace them with 0"
      ],
      "metadata": {
        "id": "bJVeq5uY1yRq"
      }
    },
    {
      "cell_type": "code",
      "source": [
        "# Remove NaN values and replace them with 0\n",
        "data.fillna(0, inplace = True)\n",
        "data.head(10)"
      ],
      "metadata": {
        "colab": {
          "base_uri": "https://localhost:8080/",
          "height": 427
        },
        "id": "KfeTHt6d00BH",
        "outputId": "1663508e-55ce-4cb4-90e5-ed76c20514c5"
      },
      "execution_count": null,
      "outputs": [
        {
          "output_type": "execute_result",
          "data": {
            "text/html": [
              "\n",
              "  <div id=\"df-bf077ccc-24d8-4ea2-ad53-6bcdb2214107\">\n",
              "    <div class=\"colab-df-container\">\n",
              "      <div>\n",
              "<style scoped>\n",
              "    .dataframe tbody tr th:only-of-type {\n",
              "        vertical-align: middle;\n",
              "    }\n",
              "\n",
              "    .dataframe tbody tr th {\n",
              "        vertical-align: top;\n",
              "    }\n",
              "\n",
              "    .dataframe thead th {\n",
              "        text-align: right;\n",
              "    }\n",
              "</style>\n",
              "<table border=\"1\" class=\"dataframe\">\n",
              "  <thead>\n",
              "    <tr style=\"text-align: right;\">\n",
              "      <th></th>\n",
              "      <th>date</th>\n",
              "      <th>c.class.average.price</th>\n",
              "      <th>unit.c</th>\n",
              "      <th>E.class.average.price</th>\n",
              "      <th>unit.e</th>\n",
              "      <th>s.class.average.price</th>\n",
              "      <th>unit.s</th>\n",
              "      <th>cl.class.average.price</th>\n",
              "      <th>unit.cl</th>\n",
              "      <th>sl.class.average.price</th>\n",
              "      <th>unit.sl</th>\n",
              "      <th>m.class.average.price</th>\n",
              "      <th>unit.m</th>\n",
              "      <th>Total.revanue.CL</th>\n",
              "      <th>Total.revanue.SL</th>\n",
              "    </tr>\n",
              "  </thead>\n",
              "  <tbody>\n",
              "    <tr>\n",
              "      <th>0</th>\n",
              "      <td>2006/5/01</td>\n",
              "      <td>38917</td>\n",
              "      <td>4329.0</td>\n",
              "      <td>61420</td>\n",
              "      <td>4070.0</td>\n",
              "      <td>101100</td>\n",
              "      <td>2526.0</td>\n",
              "      <td>132050</td>\n",
              "      <td>46.0</td>\n",
              "      <td>134225</td>\n",
              "      <td>1056.0</td>\n",
              "      <td>44900</td>\n",
              "      <td>2278.0</td>\n",
              "      <td>6074300.0</td>\n",
              "      <td>141741600.0</td>\n",
              "    </tr>\n",
              "    <tr>\n",
              "      <th>1</th>\n",
              "      <td>2006/6/01</td>\n",
              "      <td>38917</td>\n",
              "      <td>4250.0</td>\n",
              "      <td>61420</td>\n",
              "      <td>4213.0</td>\n",
              "      <td>101100</td>\n",
              "      <td>2407.0</td>\n",
              "      <td>132050</td>\n",
              "      <td>63.0</td>\n",
              "      <td>134225</td>\n",
              "      <td>866.0</td>\n",
              "      <td>44900</td>\n",
              "      <td>2601.0</td>\n",
              "      <td>8319150.0</td>\n",
              "      <td>116238850.0</td>\n",
              "    </tr>\n",
              "    <tr>\n",
              "      <th>2</th>\n",
              "      <td>2006/7/01</td>\n",
              "      <td>38917</td>\n",
              "      <td>5285.0</td>\n",
              "      <td>61420</td>\n",
              "      <td>4479.0</td>\n",
              "      <td>101100</td>\n",
              "      <td>2233.0</td>\n",
              "      <td>132050</td>\n",
              "      <td>52.0</td>\n",
              "      <td>134225</td>\n",
              "      <td>768.0</td>\n",
              "      <td>44900</td>\n",
              "      <td>2446.0</td>\n",
              "      <td>6866600.0</td>\n",
              "      <td>103084800.0</td>\n",
              "    </tr>\n",
              "    <tr>\n",
              "      <th>3</th>\n",
              "      <td>2006/8/01</td>\n",
              "      <td>38917</td>\n",
              "      <td>4652.0</td>\n",
              "      <td>61420</td>\n",
              "      <td>3955.0</td>\n",
              "      <td>101100</td>\n",
              "      <td>2427.0</td>\n",
              "      <td>132050</td>\n",
              "      <td>54.0</td>\n",
              "      <td>134225</td>\n",
              "      <td>713.0</td>\n",
              "      <td>44900</td>\n",
              "      <td>2312.0</td>\n",
              "      <td>7130700.0</td>\n",
              "      <td>95702425.0</td>\n",
              "    </tr>\n",
              "    <tr>\n",
              "      <th>4</th>\n",
              "      <td>2006/9/01</td>\n",
              "      <td>38917</td>\n",
              "      <td>4238.0</td>\n",
              "      <td>61420</td>\n",
              "      <td>4112.0</td>\n",
              "      <td>101100</td>\n",
              "      <td>2357.0</td>\n",
              "      <td>132050</td>\n",
              "      <td>41.0</td>\n",
              "      <td>134225</td>\n",
              "      <td>557.0</td>\n",
              "      <td>44900</td>\n",
              "      <td>2706.0</td>\n",
              "      <td>5414050.0</td>\n",
              "      <td>74763325.0</td>\n",
              "    </tr>\n",
              "    <tr>\n",
              "      <th>5</th>\n",
              "      <td>2006/10/01</td>\n",
              "      <td>38917</td>\n",
              "      <td>3784.0</td>\n",
              "      <td>61420</td>\n",
              "      <td>4895.0</td>\n",
              "      <td>101100</td>\n",
              "      <td>2518.0</td>\n",
              "      <td>132050</td>\n",
              "      <td>98.0</td>\n",
              "      <td>134225</td>\n",
              "      <td>554.0</td>\n",
              "      <td>44900</td>\n",
              "      <td>2770.0</td>\n",
              "      <td>12940900.0</td>\n",
              "      <td>74360650.0</td>\n",
              "    </tr>\n",
              "    <tr>\n",
              "      <th>6</th>\n",
              "      <td>2006/11/01</td>\n",
              "      <td>38917</td>\n",
              "      <td>4435.0</td>\n",
              "      <td>61420</td>\n",
              "      <td>4918.0</td>\n",
              "      <td>101100</td>\n",
              "      <td>2780.0</td>\n",
              "      <td>132050</td>\n",
              "      <td>391.0</td>\n",
              "      <td>134225</td>\n",
              "      <td>456.0</td>\n",
              "      <td>44900</td>\n",
              "      <td>3183.0</td>\n",
              "      <td>51631550.0</td>\n",
              "      <td>61206600.0</td>\n",
              "    </tr>\n",
              "    <tr>\n",
              "      <th>7</th>\n",
              "      <td>2006/12/01</td>\n",
              "      <td>38917</td>\n",
              "      <td>5197.0</td>\n",
              "      <td>61420</td>\n",
              "      <td>7116.0</td>\n",
              "      <td>101100</td>\n",
              "      <td>2987.0</td>\n",
              "      <td>132050</td>\n",
              "      <td>347.0</td>\n",
              "      <td>134225</td>\n",
              "      <td>539.0</td>\n",
              "      <td>44900</td>\n",
              "      <td>3889.0</td>\n",
              "      <td>45821350.0</td>\n",
              "      <td>72347275.0</td>\n",
              "    </tr>\n",
              "    <tr>\n",
              "      <th>8</th>\n",
              "      <td>2007/1/01</td>\n",
              "      <td>36650</td>\n",
              "      <td>3928.0</td>\n",
              "      <td>63443</td>\n",
              "      <td>3375.0</td>\n",
              "      <td>124750</td>\n",
              "      <td>2078.0</td>\n",
              "      <td>122825</td>\n",
              "      <td>258.0</td>\n",
              "      <td>136175</td>\n",
              "      <td>369.0</td>\n",
              "      <td>56040</td>\n",
              "      <td>2351.0</td>\n",
              "      <td>31688850.0</td>\n",
              "      <td>50248575.0</td>\n",
              "    </tr>\n",
              "    <tr>\n",
              "      <th>9</th>\n",
              "      <td>2007/2/01</td>\n",
              "      <td>36650</td>\n",
              "      <td>0.0</td>\n",
              "      <td>63443</td>\n",
              "      <td>0.0</td>\n",
              "      <td>124750</td>\n",
              "      <td>0.0</td>\n",
              "      <td>122825</td>\n",
              "      <td>0.0</td>\n",
              "      <td>136175</td>\n",
              "      <td>0.0</td>\n",
              "      <td>56040</td>\n",
              "      <td>0.0</td>\n",
              "      <td>0.0</td>\n",
              "      <td>0.0</td>\n",
              "    </tr>\n",
              "  </tbody>\n",
              "</table>\n",
              "</div>\n",
              "      <button class=\"colab-df-convert\" onclick=\"convertToInteractive('df-bf077ccc-24d8-4ea2-ad53-6bcdb2214107')\"\n",
              "              title=\"Convert this dataframe to an interactive table.\"\n",
              "              style=\"display:none;\">\n",
              "        \n",
              "  <svg xmlns=\"http://www.w3.org/2000/svg\" height=\"24px\"viewBox=\"0 0 24 24\"\n",
              "       width=\"24px\">\n",
              "    <path d=\"M0 0h24v24H0V0z\" fill=\"none\"/>\n",
              "    <path d=\"M18.56 5.44l.94 2.06.94-2.06 2.06-.94-2.06-.94-.94-2.06-.94 2.06-2.06.94zm-11 1L8.5 8.5l.94-2.06 2.06-.94-2.06-.94L8.5 2.5l-.94 2.06-2.06.94zm10 10l.94 2.06.94-2.06 2.06-.94-2.06-.94-.94-2.06-.94 2.06-2.06.94z\"/><path d=\"M17.41 7.96l-1.37-1.37c-.4-.4-.92-.59-1.43-.59-.52 0-1.04.2-1.43.59L10.3 9.45l-7.72 7.72c-.78.78-.78 2.05 0 2.83L4 21.41c.39.39.9.59 1.41.59.51 0 1.02-.2 1.41-.59l7.78-7.78 2.81-2.81c.8-.78.8-2.07 0-2.86zM5.41 20L4 18.59l7.72-7.72 1.47 1.35L5.41 20z\"/>\n",
              "  </svg>\n",
              "      </button>\n",
              "      \n",
              "  <style>\n",
              "    .colab-df-container {\n",
              "      display:flex;\n",
              "      flex-wrap:wrap;\n",
              "      gap: 12px;\n",
              "    }\n",
              "\n",
              "    .colab-df-convert {\n",
              "      background-color: #E8F0FE;\n",
              "      border: none;\n",
              "      border-radius: 50%;\n",
              "      cursor: pointer;\n",
              "      display: none;\n",
              "      fill: #1967D2;\n",
              "      height: 32px;\n",
              "      padding: 0 0 0 0;\n",
              "      width: 32px;\n",
              "    }\n",
              "\n",
              "    .colab-df-convert:hover {\n",
              "      background-color: #E2EBFA;\n",
              "      box-shadow: 0px 1px 2px rgba(60, 64, 67, 0.3), 0px 1px 3px 1px rgba(60, 64, 67, 0.15);\n",
              "      fill: #174EA6;\n",
              "    }\n",
              "\n",
              "    [theme=dark] .colab-df-convert {\n",
              "      background-color: #3B4455;\n",
              "      fill: #D2E3FC;\n",
              "    }\n",
              "\n",
              "    [theme=dark] .colab-df-convert:hover {\n",
              "      background-color: #434B5C;\n",
              "      box-shadow: 0px 1px 3px 1px rgba(0, 0, 0, 0.15);\n",
              "      filter: drop-shadow(0px 1px 2px rgba(0, 0, 0, 0.3));\n",
              "      fill: #FFFFFF;\n",
              "    }\n",
              "  </style>\n",
              "\n",
              "      <script>\n",
              "        const buttonEl =\n",
              "          document.querySelector('#df-bf077ccc-24d8-4ea2-ad53-6bcdb2214107 button.colab-df-convert');\n",
              "        buttonEl.style.display =\n",
              "          google.colab.kernel.accessAllowed ? 'block' : 'none';\n",
              "\n",
              "        async function convertToInteractive(key) {\n",
              "          const element = document.querySelector('#df-bf077ccc-24d8-4ea2-ad53-6bcdb2214107');\n",
              "          const dataTable =\n",
              "            await google.colab.kernel.invokeFunction('convertToInteractive',\n",
              "                                                     [key], {});\n",
              "          if (!dataTable) return;\n",
              "\n",
              "          const docLinkHtml = 'Like what you see? Visit the ' +\n",
              "            '<a target=\"_blank\" href=https://colab.research.google.com/notebooks/data_table.ipynb>data table notebook</a>'\n",
              "            + ' to learn more about interactive tables.';\n",
              "          element.innerHTML = '';\n",
              "          dataTable['output_type'] = 'display_data';\n",
              "          await google.colab.output.renderOutput(dataTable, element);\n",
              "          const docLink = document.createElement('div');\n",
              "          docLink.innerHTML = docLinkHtml;\n",
              "          element.appendChild(docLink);\n",
              "        }\n",
              "      </script>\n",
              "    </div>\n",
              "  </div>\n",
              "  "
            ],
            "text/plain": [
              "         date   c.class.average.price  unit.c  E.class.average.price  unit.e  \\\n",
              "0   2006/5/01                   38917  4329.0                  61420  4070.0   \n",
              "1   2006/6/01                   38917  4250.0                  61420  4213.0   \n",
              "2   2006/7/01                   38917  5285.0                  61420  4479.0   \n",
              "3   2006/8/01                   38917  4652.0                  61420  3955.0   \n",
              "4   2006/9/01                   38917  4238.0                  61420  4112.0   \n",
              "5  2006/10/01                   38917  3784.0                  61420  4895.0   \n",
              "6  2006/11/01                   38917  4435.0                  61420  4918.0   \n",
              "7  2006/12/01                   38917  5197.0                  61420  7116.0   \n",
              "8   2007/1/01                   36650  3928.0                  63443  3375.0   \n",
              "9   2007/2/01                   36650     0.0                  63443     0.0   \n",
              "\n",
              "   s.class.average.price  unit.s  cl.class.average.price  unit.cl  \\\n",
              "0                 101100  2526.0                  132050     46.0   \n",
              "1                 101100  2407.0                  132050     63.0   \n",
              "2                 101100  2233.0                  132050     52.0   \n",
              "3                 101100  2427.0                  132050     54.0   \n",
              "4                 101100  2357.0                  132050     41.0   \n",
              "5                 101100  2518.0                  132050     98.0   \n",
              "6                 101100  2780.0                  132050    391.0   \n",
              "7                 101100  2987.0                  132050    347.0   \n",
              "8                 124750  2078.0                  122825    258.0   \n",
              "9                 124750     0.0                  122825      0.0   \n",
              "\n",
              "   sl.class.average.price  unit.sl  m.class.average.price  unit.m  \\\n",
              "0                  134225   1056.0                  44900  2278.0   \n",
              "1                  134225    866.0                  44900  2601.0   \n",
              "2                  134225    768.0                  44900  2446.0   \n",
              "3                  134225    713.0                  44900  2312.0   \n",
              "4                  134225    557.0                  44900  2706.0   \n",
              "5                  134225    554.0                  44900  2770.0   \n",
              "6                  134225    456.0                  44900  3183.0   \n",
              "7                  134225    539.0                  44900  3889.0   \n",
              "8                  136175    369.0                  56040  2351.0   \n",
              "9                  136175      0.0                  56040     0.0   \n",
              "\n",
              "   Total.revanue.CL  Total.revanue.SL  \n",
              "0         6074300.0       141741600.0  \n",
              "1         8319150.0       116238850.0  \n",
              "2         6866600.0       103084800.0  \n",
              "3         7130700.0        95702425.0  \n",
              "4         5414050.0        74763325.0  \n",
              "5        12940900.0        74360650.0  \n",
              "6        51631550.0        61206600.0  \n",
              "7        45821350.0        72347275.0  \n",
              "8        31688850.0        50248575.0  \n",
              "9               0.0               0.0  "
            ]
          },
          "metadata": {},
          "execution_count": 132
        }
      ]
    },
    {
      "cell_type": "markdown",
      "source": [
        "## Total number of Mercedes Benz CL sold"
      ],
      "metadata": {
        "id": "GJNmMlkc4p8o"
      }
    },
    {
      "cell_type": "code",
      "source": [
        "# Total number of Mercedes Benz CL sold\n",
        "benzCL = data[\"unit.cl\"]\n",
        "print(\"Total number of Mercedes Benz CL sold :\", format(benzCL.sum(), \",.0f\"))"
      ],
      "metadata": {
        "colab": {
          "base_uri": "https://localhost:8080/"
        },
        "id": "j6pCwIAK15uU",
        "outputId": "51777247-0ec7-4afb-88dd-c5c34cb0f685"
      },
      "execution_count": null,
      "outputs": [
        {
          "output_type": "stream",
          "name": "stdout",
          "text": [
            "Total number of Mercedes Benz CL sold : 6,469\n"
          ]
        }
      ]
    },
    {
      "cell_type": "markdown",
      "source": [
        "## Total number of Mercedes Benz SL sold"
      ],
      "metadata": {
        "id": "FT78cGpn4vc9"
      }
    },
    {
      "cell_type": "code",
      "source": [
        "# Total number of Mercedes Benz SL sold\n",
        "benzSL = data[\"unit.sl\"]\n",
        "print(\"Total number of Mercedes Benz SL sold :\", format(benzSL.sum(), \",.0f\"))"
      ],
      "metadata": {
        "colab": {
          "base_uri": "https://localhost:8080/"
        },
        "id": "oB-9DWuC4fUf",
        "outputId": "b8eb4c23-f90e-44ee-f483-5da7307ae88f"
      },
      "execution_count": null,
      "outputs": [
        {
          "output_type": "stream",
          "name": "stdout",
          "text": [
            "Total number of Mercedes Benz SL sold : 15,690\n"
          ]
        }
      ]
    },
    {
      "cell_type": "markdown",
      "source": [
        "## Calculating monthly revanue for Mercedes Benz CL"
      ],
      "metadata": {
        "id": "2cZ9y8tv8Kgt"
      }
    },
    {
      "cell_type": "code",
      "source": [
        "# Calculating monthly revanue for Mercedes Benz CL\n",
        "data[\"Total.revanue.CL\"] = data[\"cl.class.average.price\"] * data[\"unit.cl\"]\n",
        "data.head(3)\n"
      ],
      "metadata": {
        "colab": {
          "base_uri": "https://localhost:8080/",
          "height": 207
        },
        "id": "e2V3VnTQ5udn",
        "outputId": "5d10c9cd-dc5e-46a1-994c-586c78d38843"
      },
      "execution_count": null,
      "outputs": [
        {
          "output_type": "execute_result",
          "data": {
            "text/html": [
              "\n",
              "  <div id=\"df-4eaf150c-2189-4e39-94ea-373e63432659\">\n",
              "    <div class=\"colab-df-container\">\n",
              "      <div>\n",
              "<style scoped>\n",
              "    .dataframe tbody tr th:only-of-type {\n",
              "        vertical-align: middle;\n",
              "    }\n",
              "\n",
              "    .dataframe tbody tr th {\n",
              "        vertical-align: top;\n",
              "    }\n",
              "\n",
              "    .dataframe thead th {\n",
              "        text-align: right;\n",
              "    }\n",
              "</style>\n",
              "<table border=\"1\" class=\"dataframe\">\n",
              "  <thead>\n",
              "    <tr style=\"text-align: right;\">\n",
              "      <th></th>\n",
              "      <th>date</th>\n",
              "      <th>c.class.average.price</th>\n",
              "      <th>unit.c</th>\n",
              "      <th>E.class.average.price</th>\n",
              "      <th>unit.e</th>\n",
              "      <th>s.class.average.price</th>\n",
              "      <th>unit.s</th>\n",
              "      <th>cl.class.average.price</th>\n",
              "      <th>unit.cl</th>\n",
              "      <th>sl.class.average.price</th>\n",
              "      <th>unit.sl</th>\n",
              "      <th>m.class.average.price</th>\n",
              "      <th>unit.m</th>\n",
              "      <th>Total.revanue.CL</th>\n",
              "    </tr>\n",
              "  </thead>\n",
              "  <tbody>\n",
              "    <tr>\n",
              "      <th>0</th>\n",
              "      <td>2006/5/01</td>\n",
              "      <td>38917</td>\n",
              "      <td>4329.0</td>\n",
              "      <td>61420</td>\n",
              "      <td>4070.0</td>\n",
              "      <td>101100</td>\n",
              "      <td>2526.0</td>\n",
              "      <td>132050</td>\n",
              "      <td>46.0</td>\n",
              "      <td>134225</td>\n",
              "      <td>1056.0</td>\n",
              "      <td>44900</td>\n",
              "      <td>2278.0</td>\n",
              "      <td>6074300.0</td>\n",
              "    </tr>\n",
              "    <tr>\n",
              "      <th>1</th>\n",
              "      <td>2006/6/01</td>\n",
              "      <td>38917</td>\n",
              "      <td>4250.0</td>\n",
              "      <td>61420</td>\n",
              "      <td>4213.0</td>\n",
              "      <td>101100</td>\n",
              "      <td>2407.0</td>\n",
              "      <td>132050</td>\n",
              "      <td>63.0</td>\n",
              "      <td>134225</td>\n",
              "      <td>866.0</td>\n",
              "      <td>44900</td>\n",
              "      <td>2601.0</td>\n",
              "      <td>8319150.0</td>\n",
              "    </tr>\n",
              "    <tr>\n",
              "      <th>2</th>\n",
              "      <td>2006/7/01</td>\n",
              "      <td>38917</td>\n",
              "      <td>5285.0</td>\n",
              "      <td>61420</td>\n",
              "      <td>4479.0</td>\n",
              "      <td>101100</td>\n",
              "      <td>2233.0</td>\n",
              "      <td>132050</td>\n",
              "      <td>52.0</td>\n",
              "      <td>134225</td>\n",
              "      <td>768.0</td>\n",
              "      <td>44900</td>\n",
              "      <td>2446.0</td>\n",
              "      <td>6866600.0</td>\n",
              "    </tr>\n",
              "  </tbody>\n",
              "</table>\n",
              "</div>\n",
              "      <button class=\"colab-df-convert\" onclick=\"convertToInteractive('df-4eaf150c-2189-4e39-94ea-373e63432659')\"\n",
              "              title=\"Convert this dataframe to an interactive table.\"\n",
              "              style=\"display:none;\">\n",
              "        \n",
              "  <svg xmlns=\"http://www.w3.org/2000/svg\" height=\"24px\"viewBox=\"0 0 24 24\"\n",
              "       width=\"24px\">\n",
              "    <path d=\"M0 0h24v24H0V0z\" fill=\"none\"/>\n",
              "    <path d=\"M18.56 5.44l.94 2.06.94-2.06 2.06-.94-2.06-.94-.94-2.06-.94 2.06-2.06.94zm-11 1L8.5 8.5l.94-2.06 2.06-.94-2.06-.94L8.5 2.5l-.94 2.06-2.06.94zm10 10l.94 2.06.94-2.06 2.06-.94-2.06-.94-.94-2.06-.94 2.06-2.06.94z\"/><path d=\"M17.41 7.96l-1.37-1.37c-.4-.4-.92-.59-1.43-.59-.52 0-1.04.2-1.43.59L10.3 9.45l-7.72 7.72c-.78.78-.78 2.05 0 2.83L4 21.41c.39.39.9.59 1.41.59.51 0 1.02-.2 1.41-.59l7.78-7.78 2.81-2.81c.8-.78.8-2.07 0-2.86zM5.41 20L4 18.59l7.72-7.72 1.47 1.35L5.41 20z\"/>\n",
              "  </svg>\n",
              "      </button>\n",
              "      \n",
              "  <style>\n",
              "    .colab-df-container {\n",
              "      display:flex;\n",
              "      flex-wrap:wrap;\n",
              "      gap: 12px;\n",
              "    }\n",
              "\n",
              "    .colab-df-convert {\n",
              "      background-color: #E8F0FE;\n",
              "      border: none;\n",
              "      border-radius: 50%;\n",
              "      cursor: pointer;\n",
              "      display: none;\n",
              "      fill: #1967D2;\n",
              "      height: 32px;\n",
              "      padding: 0 0 0 0;\n",
              "      width: 32px;\n",
              "    }\n",
              "\n",
              "    .colab-df-convert:hover {\n",
              "      background-color: #E2EBFA;\n",
              "      box-shadow: 0px 1px 2px rgba(60, 64, 67, 0.3), 0px 1px 3px 1px rgba(60, 64, 67, 0.15);\n",
              "      fill: #174EA6;\n",
              "    }\n",
              "\n",
              "    [theme=dark] .colab-df-convert {\n",
              "      background-color: #3B4455;\n",
              "      fill: #D2E3FC;\n",
              "    }\n",
              "\n",
              "    [theme=dark] .colab-df-convert:hover {\n",
              "      background-color: #434B5C;\n",
              "      box-shadow: 0px 1px 3px 1px rgba(0, 0, 0, 0.15);\n",
              "      filter: drop-shadow(0px 1px 2px rgba(0, 0, 0, 0.3));\n",
              "      fill: #FFFFFF;\n",
              "    }\n",
              "  </style>\n",
              "\n",
              "      <script>\n",
              "        const buttonEl =\n",
              "          document.querySelector('#df-4eaf150c-2189-4e39-94ea-373e63432659 button.colab-df-convert');\n",
              "        buttonEl.style.display =\n",
              "          google.colab.kernel.accessAllowed ? 'block' : 'none';\n",
              "\n",
              "        async function convertToInteractive(key) {\n",
              "          const element = document.querySelector('#df-4eaf150c-2189-4e39-94ea-373e63432659');\n",
              "          const dataTable =\n",
              "            await google.colab.kernel.invokeFunction('convertToInteractive',\n",
              "                                                     [key], {});\n",
              "          if (!dataTable) return;\n",
              "\n",
              "          const docLinkHtml = 'Like what you see? Visit the ' +\n",
              "            '<a target=\"_blank\" href=https://colab.research.google.com/notebooks/data_table.ipynb>data table notebook</a>'\n",
              "            + ' to learn more about interactive tables.';\n",
              "          element.innerHTML = '';\n",
              "          dataTable['output_type'] = 'display_data';\n",
              "          await google.colab.output.renderOutput(dataTable, element);\n",
              "          const docLink = document.createElement('div');\n",
              "          docLink.innerHTML = docLinkHtml;\n",
              "          element.appendChild(docLink);\n",
              "        }\n",
              "      </script>\n",
              "    </div>\n",
              "  </div>\n",
              "  "
            ],
            "text/plain": [
              "        date   c.class.average.price  unit.c  E.class.average.price  unit.e  \\\n",
              "0  2006/5/01                   38917  4329.0                  61420  4070.0   \n",
              "1  2006/6/01                   38917  4250.0                  61420  4213.0   \n",
              "2  2006/7/01                   38917  5285.0                  61420  4479.0   \n",
              "\n",
              "   s.class.average.price  unit.s  cl.class.average.price  unit.cl  \\\n",
              "0                 101100  2526.0                  132050     46.0   \n",
              "1                 101100  2407.0                  132050     63.0   \n",
              "2                 101100  2233.0                  132050     52.0   \n",
              "\n",
              "   sl.class.average.price  unit.sl  m.class.average.price  unit.m  \\\n",
              "0                  134225   1056.0                  44900  2278.0   \n",
              "1                  134225    866.0                  44900  2601.0   \n",
              "2                  134225    768.0                  44900  2446.0   \n",
              "\n",
              "   Total.revanue.CL  \n",
              "0         6074300.0  \n",
              "1         8319150.0  \n",
              "2         6866600.0  "
            ]
          },
          "metadata": {},
          "execution_count": 134
        }
      ]
    },
    {
      "cell_type": "markdown",
      "source": [
        "## Calculating monthly revanue for Mercedes Benz SL"
      ],
      "metadata": {
        "id": "ZU43Vnry8Rsb"
      }
    },
    {
      "cell_type": "code",
      "source": [
        "# Calculating monthly revanue for Mercedes Benz CL\n",
        "data[\"Total.revanue.SL\"] = data[\"sl.class.average.price\"] * data[\"unit.sl\"]\n",
        "data.head(3)"
      ],
      "metadata": {
        "colab": {
          "base_uri": "https://localhost:8080/",
          "height": 207
        },
        "id": "Ll4acWKR8T3r",
        "outputId": "baaaf3ce-137c-4daf-93aa-2e385ce9a9c8"
      },
      "execution_count": null,
      "outputs": [
        {
          "output_type": "execute_result",
          "data": {
            "text/html": [
              "\n",
              "  <div id=\"df-bb78f4b7-0189-4d42-b6b3-55490dbcf8c5\">\n",
              "    <div class=\"colab-df-container\">\n",
              "      <div>\n",
              "<style scoped>\n",
              "    .dataframe tbody tr th:only-of-type {\n",
              "        vertical-align: middle;\n",
              "    }\n",
              "\n",
              "    .dataframe tbody tr th {\n",
              "        vertical-align: top;\n",
              "    }\n",
              "\n",
              "    .dataframe thead th {\n",
              "        text-align: right;\n",
              "    }\n",
              "</style>\n",
              "<table border=\"1\" class=\"dataframe\">\n",
              "  <thead>\n",
              "    <tr style=\"text-align: right;\">\n",
              "      <th></th>\n",
              "      <th>date</th>\n",
              "      <th>c.class.average.price</th>\n",
              "      <th>unit.c</th>\n",
              "      <th>E.class.average.price</th>\n",
              "      <th>unit.e</th>\n",
              "      <th>s.class.average.price</th>\n",
              "      <th>unit.s</th>\n",
              "      <th>cl.class.average.price</th>\n",
              "      <th>unit.cl</th>\n",
              "      <th>sl.class.average.price</th>\n",
              "      <th>unit.sl</th>\n",
              "      <th>m.class.average.price</th>\n",
              "      <th>unit.m</th>\n",
              "      <th>Total.revanue.CL</th>\n",
              "      <th>Total.revanue.SL</th>\n",
              "    </tr>\n",
              "  </thead>\n",
              "  <tbody>\n",
              "    <tr>\n",
              "      <th>0</th>\n",
              "      <td>2006/5/01</td>\n",
              "      <td>38917</td>\n",
              "      <td>4329.0</td>\n",
              "      <td>61420</td>\n",
              "      <td>4070.0</td>\n",
              "      <td>101100</td>\n",
              "      <td>2526.0</td>\n",
              "      <td>132050</td>\n",
              "      <td>46.0</td>\n",
              "      <td>134225</td>\n",
              "      <td>1056.0</td>\n",
              "      <td>44900</td>\n",
              "      <td>2278.0</td>\n",
              "      <td>6074300.0</td>\n",
              "      <td>141741600.0</td>\n",
              "    </tr>\n",
              "    <tr>\n",
              "      <th>1</th>\n",
              "      <td>2006/6/01</td>\n",
              "      <td>38917</td>\n",
              "      <td>4250.0</td>\n",
              "      <td>61420</td>\n",
              "      <td>4213.0</td>\n",
              "      <td>101100</td>\n",
              "      <td>2407.0</td>\n",
              "      <td>132050</td>\n",
              "      <td>63.0</td>\n",
              "      <td>134225</td>\n",
              "      <td>866.0</td>\n",
              "      <td>44900</td>\n",
              "      <td>2601.0</td>\n",
              "      <td>8319150.0</td>\n",
              "      <td>116238850.0</td>\n",
              "    </tr>\n",
              "    <tr>\n",
              "      <th>2</th>\n",
              "      <td>2006/7/01</td>\n",
              "      <td>38917</td>\n",
              "      <td>5285.0</td>\n",
              "      <td>61420</td>\n",
              "      <td>4479.0</td>\n",
              "      <td>101100</td>\n",
              "      <td>2233.0</td>\n",
              "      <td>132050</td>\n",
              "      <td>52.0</td>\n",
              "      <td>134225</td>\n",
              "      <td>768.0</td>\n",
              "      <td>44900</td>\n",
              "      <td>2446.0</td>\n",
              "      <td>6866600.0</td>\n",
              "      <td>103084800.0</td>\n",
              "    </tr>\n",
              "  </tbody>\n",
              "</table>\n",
              "</div>\n",
              "      <button class=\"colab-df-convert\" onclick=\"convertToInteractive('df-bb78f4b7-0189-4d42-b6b3-55490dbcf8c5')\"\n",
              "              title=\"Convert this dataframe to an interactive table.\"\n",
              "              style=\"display:none;\">\n",
              "        \n",
              "  <svg xmlns=\"http://www.w3.org/2000/svg\" height=\"24px\"viewBox=\"0 0 24 24\"\n",
              "       width=\"24px\">\n",
              "    <path d=\"M0 0h24v24H0V0z\" fill=\"none\"/>\n",
              "    <path d=\"M18.56 5.44l.94 2.06.94-2.06 2.06-.94-2.06-.94-.94-2.06-.94 2.06-2.06.94zm-11 1L8.5 8.5l.94-2.06 2.06-.94-2.06-.94L8.5 2.5l-.94 2.06-2.06.94zm10 10l.94 2.06.94-2.06 2.06-.94-2.06-.94-.94-2.06-.94 2.06-2.06.94z\"/><path d=\"M17.41 7.96l-1.37-1.37c-.4-.4-.92-.59-1.43-.59-.52 0-1.04.2-1.43.59L10.3 9.45l-7.72 7.72c-.78.78-.78 2.05 0 2.83L4 21.41c.39.39.9.59 1.41.59.51 0 1.02-.2 1.41-.59l7.78-7.78 2.81-2.81c.8-.78.8-2.07 0-2.86zM5.41 20L4 18.59l7.72-7.72 1.47 1.35L5.41 20z\"/>\n",
              "  </svg>\n",
              "      </button>\n",
              "      \n",
              "  <style>\n",
              "    .colab-df-container {\n",
              "      display:flex;\n",
              "      flex-wrap:wrap;\n",
              "      gap: 12px;\n",
              "    }\n",
              "\n",
              "    .colab-df-convert {\n",
              "      background-color: #E8F0FE;\n",
              "      border: none;\n",
              "      border-radius: 50%;\n",
              "      cursor: pointer;\n",
              "      display: none;\n",
              "      fill: #1967D2;\n",
              "      height: 32px;\n",
              "      padding: 0 0 0 0;\n",
              "      width: 32px;\n",
              "    }\n",
              "\n",
              "    .colab-df-convert:hover {\n",
              "      background-color: #E2EBFA;\n",
              "      box-shadow: 0px 1px 2px rgba(60, 64, 67, 0.3), 0px 1px 3px 1px rgba(60, 64, 67, 0.15);\n",
              "      fill: #174EA6;\n",
              "    }\n",
              "\n",
              "    [theme=dark] .colab-df-convert {\n",
              "      background-color: #3B4455;\n",
              "      fill: #D2E3FC;\n",
              "    }\n",
              "\n",
              "    [theme=dark] .colab-df-convert:hover {\n",
              "      background-color: #434B5C;\n",
              "      box-shadow: 0px 1px 3px 1px rgba(0, 0, 0, 0.15);\n",
              "      filter: drop-shadow(0px 1px 2px rgba(0, 0, 0, 0.3));\n",
              "      fill: #FFFFFF;\n",
              "    }\n",
              "  </style>\n",
              "\n",
              "      <script>\n",
              "        const buttonEl =\n",
              "          document.querySelector('#df-bb78f4b7-0189-4d42-b6b3-55490dbcf8c5 button.colab-df-convert');\n",
              "        buttonEl.style.display =\n",
              "          google.colab.kernel.accessAllowed ? 'block' : 'none';\n",
              "\n",
              "        async function convertToInteractive(key) {\n",
              "          const element = document.querySelector('#df-bb78f4b7-0189-4d42-b6b3-55490dbcf8c5');\n",
              "          const dataTable =\n",
              "            await google.colab.kernel.invokeFunction('convertToInteractive',\n",
              "                                                     [key], {});\n",
              "          if (!dataTable) return;\n",
              "\n",
              "          const docLinkHtml = 'Like what you see? Visit the ' +\n",
              "            '<a target=\"_blank\" href=https://colab.research.google.com/notebooks/data_table.ipynb>data table notebook</a>'\n",
              "            + ' to learn more about interactive tables.';\n",
              "          element.innerHTML = '';\n",
              "          dataTable['output_type'] = 'display_data';\n",
              "          await google.colab.output.renderOutput(dataTable, element);\n",
              "          const docLink = document.createElement('div');\n",
              "          docLink.innerHTML = docLinkHtml;\n",
              "          element.appendChild(docLink);\n",
              "        }\n",
              "      </script>\n",
              "    </div>\n",
              "  </div>\n",
              "  "
            ],
            "text/plain": [
              "        date   c.class.average.price  unit.c  E.class.average.price  unit.e  \\\n",
              "0  2006/5/01                   38917  4329.0                  61420  4070.0   \n",
              "1  2006/6/01                   38917  4250.0                  61420  4213.0   \n",
              "2  2006/7/01                   38917  5285.0                  61420  4479.0   \n",
              "\n",
              "   s.class.average.price  unit.s  cl.class.average.price  unit.cl  \\\n",
              "0                 101100  2526.0                  132050     46.0   \n",
              "1                 101100  2407.0                  132050     63.0   \n",
              "2                 101100  2233.0                  132050     52.0   \n",
              "\n",
              "   sl.class.average.price  unit.sl  m.class.average.price  unit.m  \\\n",
              "0                  134225   1056.0                  44900  2278.0   \n",
              "1                  134225    866.0                  44900  2601.0   \n",
              "2                  134225    768.0                  44900  2446.0   \n",
              "\n",
              "   Total.revanue.CL  Total.revanue.SL  \n",
              "0         6074300.0       141741600.0  \n",
              "1         8319150.0       116238850.0  \n",
              "2         6866600.0       103084800.0  "
            ]
          },
          "metadata": {},
          "execution_count": 135
        }
      ]
    },
    {
      "cell_type": "markdown",
      "source": [
        "## Calculating total revanue generated by Mercedes Benz CL"
      ],
      "metadata": {
        "id": "aPg-JdCR9YMj"
      }
    },
    {
      "cell_type": "code",
      "source": [
        "# Total revanue by model CL\n",
        "totalRevanueModelCL = data[\"Total.revanue.CL\"].sum()\n",
        "print(\"Total Revanue generated by Mercedes Benz model CL is $\", format(totalRevanueModelCL, \",.0f\"))"
      ],
      "metadata": {
        "colab": {
          "base_uri": "https://localhost:8080/"
        },
        "id": "AEdzECTC9b2w",
        "outputId": "be4aa8e9-7505-4c5b-e20d-5e14489c5e01"
      },
      "execution_count": null,
      "outputs": [
        {
          "output_type": "stream",
          "name": "stdout",
          "text": [
            "Total Revanue generated by Mercedes Benz model CL is $ 948,258,500\n"
          ]
        }
      ]
    },
    {
      "cell_type": "markdown",
      "source": [
        "## Calculating total revanue generated by Mercedes Benz SL"
      ],
      "metadata": {
        "id": "PYWOP2Y097eq"
      }
    },
    {
      "cell_type": "code",
      "source": [
        "# Total revanue by model SL\n",
        "totalRevanueModelSL = data[\"Total.revanue.SL\"].sum()\n",
        "print(\"Total Revanue generated by Mercedes Benz model SL is $\", format(totalRevanueModelSL, \",.0f\"))"
      ],
      "metadata": {
        "colab": {
          "base_uri": "https://localhost:8080/"
        },
        "id": "8TVpIrEy982k",
        "outputId": "21e6a4ec-8308-4394-9f01-27a10a67a49c"
      },
      "execution_count": null,
      "outputs": [
        {
          "output_type": "stream",
          "name": "stdout",
          "text": [
            "Total Revanue generated by Mercedes Benz model SL is $ 2,128,483,125\n"
          ]
        }
      ]
    },
    {
      "cell_type": "markdown",
      "source": [
        "## **Sample Standard Deviation (population) on Mercedes Benz SL & CL sales**"
      ],
      "metadata": {
        "id": "3OUPkEXEDYLF"
      }
    },
    {
      "cell_type": "markdown",
      "source": [
        "## Scatter plot visualisation for CL units sold and average prices with mean as a horizontal line"
      ],
      "metadata": {
        "id": "Hn6_9E32DutS"
      }
    },
    {
      "cell_type": "code",
      "source": [
        "# CL Units Sold scatter plot\n",
        "plt.ylim(0, 500) #Setting y limits\n",
        "plt.title(\"CL units sold\") #setting the title\n",
        "plt.scatter(x=data.index, y=data[\"unit.cl\"], s=5) #plotting the scatter\n",
        "plt.hlines(y=data[\"unit.cl\"].mean(), xmin=0, xmax=35) # Mean line\n",
        "plt.show();\n",
        "\n",
        "# CL class average price scatter plot\n",
        "plt.ylim(0, 200000) #Setting y limits\n",
        "plt.title(\"CL average price\") #setting the title\n",
        "plt.scatter(x=data.index, y=data[\"cl.class.average.price\"], s=5) #plotting the scatter\n",
        "plt.hlines(y=data[\"cl.class.average.price\"].mean(), xmin=0, xmax=35) # Mean line\n",
        "plt.show();"
      ],
      "metadata": {
        "colab": {
          "base_uri": "https://localhost:8080/",
          "height": 545
        },
        "id": "hmvJdQymA5GN",
        "outputId": "da846a77-1c64-42e8-ed0d-595a0452587c"
      },
      "execution_count": null,
      "outputs": [
        {
          "output_type": "display_data",
          "data": {
            "image/png": "[encoded data removed]",
            "text/plain": [
              "<Figure size 432x288 with 1 Axes>"
            ]
          },
          "metadata": {
            "needs_background": "light"
          }
        },
        {
          "output_type": "display_data",
          "data": {
            "image/png": "[encoded data removed]",
            "text/plain": [
              "<Figure size 432x288 with 1 Axes>"
            ]
          },
          "metadata": {
            "needs_background": "light"
          }
        }
      ]
    },
    {
      "cell_type": "markdown",
      "source": [
        "## Scatter plot visualisation for SL units sold and average prices with mean as a horizontal line"
      ],
      "metadata": {
        "id": "Ec-jrw16D-lR"
      }
    },
    {
      "cell_type": "code",
      "source": [
        "# SL Units Sold scatter plot\n",
        "plt.ylim(0, 1500) #Setting y limits\n",
        "plt.title(\"SL units sold\") #setting the title\n",
        "plt.scatter(x=data.index, y=data[\"unit.sl\"], s=5) #plotting the scatter\n",
        "plt.hlines(y=data[\"unit.sl\"].mean(), xmin=0, xmax=35) # Mean line\n",
        "plt.show();\n",
        "\n",
        "# SL class average price scatter plot\n",
        "plt.ylim(0, 200000) #Setting y limits\n",
        "plt.title(\"SL average price\") #setting the title\n",
        "plt.scatter(x=data.index, y=data[\"sl.class.average.price\"], s=5) #plotting the scatter\n",
        "plt.hlines(y=data[\"sl.class.average.price\"].mean(), xmin=0, xmax=35) # Mean line\n",
        "plt.show();"
      ],
      "metadata": {
        "colab": {
          "base_uri": "https://localhost:8080/",
          "height": 545
        },
        "id": "vSAWATT2Drb-",
        "outputId": "dbadf7ef-1402-40e9-f924-93bdb1212cd5"
      },
      "execution_count": null,
      "outputs": [
        {
          "output_type": "display_data",
          "data": {
            "image/png": "[encoded data removed]",
            "text/plain": [
              "<Figure size 432x288 with 1 Axes>"
            ]
          },
          "metadata": {
            "needs_background": "light"
          }
        },
        {
          "output_type": "display_data",
          "data": {
            "image/png": "[encoded data removed]",
            "text/plain": [
              "<Figure size 432x288 with 1 Axes>"
            ]
          },
          "metadata": {
            "needs_background": "light"
          }
        }
      ]
    },
    {
      "cell_type": "markdown",
      "source": [
        "## Scatter plot visualisation for SL and CL monthly revanue"
      ],
      "metadata": {
        "id": "XH1DTELHEe9y"
      }
    },
    {
      "cell_type": "code",
      "source": [
        "# CL Monthly revanue\n",
        "plt.ylim(0, 100000000) #Setting y limits\n",
        "plt.title(\"Monthly CL revanue ( In tens of Millions )\") #setting the title\n",
        "plt.scatter(x=data.index, y=data[\"Total.revanue.CL\"], s=5) #plotting the scatter\n",
        "plt.hlines(y=data[\"Total.revanue.CL\"].mean(), xmin=0, xmax=35) # Mean line\n",
        "plt.show();\n",
        "\n",
        "# SL Monthly revanue\n",
        "plt.ylim(0, 150000000) #Setting y limits\n",
        "plt.title(\"Monthly SL revanue ( In tens of Millions )\") #setting the title\n",
        "plt.scatter(x=data.index, y=data[\"Total.revanue.SL\"], s=5) #plotting the scatter\n",
        "plt.hlines(y=data[\"Total.revanue.SL\"].mean(), xmin=0, xmax=35) # Mean line\n",
        "plt.show();"
      ],
      "metadata": {
        "colab": {
          "base_uri": "https://localhost:8080/",
          "height": 545
        },
        "id": "zbJ-QCrwElxB",
        "outputId": "3ba0d0e3-8d9a-4de1-8f0e-24b23cb56ca6"
      },
      "execution_count": null,
      "outputs": [
        {
          "output_type": "display_data",
          "data": {
            "image/png": "[encoded data removed]",
            "text/plain": [
              "<Figure size 432x288 with 1 Axes>"
            ]
          },
          "metadata": {
            "needs_background": "light"
          }
        },
        {
          "output_type": "display_data",
          "data": {
            "image/png": "[encoded data removed]",
            "text/plain": [
              "<Figure size 432x288 with 1 Axes>"
            ]
          },
          "metadata": {
            "needs_background": "light"
          }
        }
      ]
    },
    {
      "cell_type": "markdown",
      "source": [
        "## **Calculatin standard deviation for SL & CL sales, average price and monthly revanue**"
      ],
      "metadata": {
        "id": "xsncONoXIr1S"
      }
    },
    {
      "cell_type": "markdown",
      "source": [
        "## Standard Deviation for CL units sold per month"
      ],
      "metadata": {
        "id": "JWLQfdjYI35R"
      }
    },
    {
      "cell_type": "code",
      "source": [
        "# Calculatin standard deviation using the .std() method and formating the result by limiting to only 2 decimal numbers\n",
        "print(\"Mercedes Benz CL monthly units sold standard deviation is: \", format(data[\"unit.cl\"].std(), \",.2f\") )"
      ],
      "metadata": {
        "colab": {
          "base_uri": "https://localhost:8080/"
        },
        "id": "oCIKbiAuI0eJ",
        "outputId": "ca4b501c-8154-423d-bb01-1a24e30ebc88"
      },
      "execution_count": null,
      "outputs": [
        {
          "output_type": "stream",
          "name": "stdout",
          "text": [
            "Mercedes Benz CL monthly units sold standard deviation is:  125.33\n"
          ]
        }
      ]
    },
    {
      "cell_type": "markdown",
      "source": [
        "## Standard Deviation for CL average price per month"
      ],
      "metadata": {
        "id": "PHUdd632JqS_"
      }
    },
    {
      "cell_type": "code",
      "source": [
        "# Calculatin standard deviation using the .std() method and formating the result by limiting to only 2 decimal numbers\n",
        "print(\"Mercedes Benz CL average montlhy price standard deviation is : $\",format(data[\"cl.class.average.price\"].std(), \",.2f\") )"
      ],
      "metadata": {
        "colab": {
          "base_uri": "https://localhost:8080/"
        },
        "id": "o3KNw7u7Jvo_",
        "outputId": "34053ea8-2178-4779-e056-d17e19dbe5dd"
      },
      "execution_count": null,
      "outputs": [
        {
          "output_type": "stream",
          "name": "stdout",
          "text": [
            "Mercedes Benz CL average montlhy price standard deviation is : $ 23,570.50\n"
          ]
        }
      ]
    },
    {
      "cell_type": "markdown",
      "source": [
        "## Standard Deviation for SL units sold per month"
      ],
      "metadata": {
        "id": "nol1xJW1J8S5"
      }
    },
    {
      "cell_type": "code",
      "source": [
        "# Calculatin standard deviation using the .std() method and formating the result by limiting to only 2 decimal numbers\n",
        "print(\"Mercedes Benz SL monthly units sold standard deviation is: \", format(data[\"unit.sl\"].std(), \",.2f\") )"
      ],
      "metadata": {
        "colab": {
          "base_uri": "https://localhost:8080/"
        },
        "id": "1EjrediCJ_X5",
        "outputId": "3034c73d-9f66-4b6b-d5f9-0ad6e0a2a8af"
      },
      "execution_count": null,
      "outputs": [
        {
          "output_type": "stream",
          "name": "stdout",
          "text": [
            "Mercedes Benz SL monthly units sold standard deviation is:  279.19\n"
          ]
        }
      ]
    },
    {
      "cell_type": "markdown",
      "source": [
        "## Standard Deviation for SL average price per month"
      ],
      "metadata": {
        "id": "kU7Dn4xtKEJz"
      }
    },
    {
      "cell_type": "code",
      "source": [
        "# Calculatin standard deviation using the .std() method and formating the result by limiting to only 2 decimal numbers\n",
        "print(\"Mercedes Benz SL average montlhy price standard deviation is : $\",format(data[\"sl.class.average.price\"].std(), \",.2f\") )"
      ],
      "metadata": {
        "colab": {
          "base_uri": "https://localhost:8080/"
        },
        "id": "w4NguGfVKGoS",
        "outputId": "a396c549-5fcc-401f-d18a-cff5ad0d2539"
      },
      "execution_count": null,
      "outputs": [
        {
          "output_type": "stream",
          "name": "stdout",
          "text": [
            "Mercedes Benz SL average montlhy price standard deviation is : $ 1,185.16\n"
          ]
        }
      ]
    },
    {
      "cell_type": "markdown",
      "source": [
        "## Standard Deviation for CL total monthly revanue\n"
      ],
      "metadata": {
        "id": "CtaBinYXKj0d"
      }
    },
    {
      "cell_type": "code",
      "source": [
        "# Calculatin standard deviation using the .std() method and formating the result by limiting to only 2 decimal numbers\n",
        "print(\"Mercedes Benz CL total monthly revanue standard deviation is: $\",format(data[\"Total.revanue.CL\"].std(), \",.2f\") )"
      ],
      "metadata": {
        "colab": {
          "base_uri": "https://localhost:8080/"
        },
        "id": "2DJ4cxU-Kpfd",
        "outputId": "c2878574-be6c-4a6e-f00c-d076879af365"
      },
      "execution_count": null,
      "outputs": [
        {
          "output_type": "stream",
          "name": "stdout",
          "text": [
            "Mercedes Benz CL total monthly revanue standard deviation is: $ 17,869,608.52\n"
          ]
        }
      ]
    },
    {
      "cell_type": "markdown",
      "source": [
        "## Standard Deviation for SL total monthly revanue"
      ],
      "metadata": {
        "id": "LAP1SJuEK2Uw"
      }
    },
    {
      "cell_type": "code",
      "source": [
        "# Calculatin standard deviation using the .std() method and formating the result by limiting to only 2 decimal numbers\n",
        "print(\"Mercedes Benz SL total monthly revanue standard deviation is: $\",format(data[\"Total.revanue.SL\"].std(), \",.2f\") )"
      ],
      "metadata": {
        "colab": {
          "base_uri": "https://localhost:8080/"
        },
        "id": "DY2--Z3GK5UV",
        "outputId": "008f5b2f-2446-46a6-ad95-86c6b0e63f43"
      },
      "execution_count": null,
      "outputs": [
        {
          "output_type": "stream",
          "name": "stdout",
          "text": [
            "Mercedes Benz SL total monthly revanue standard deviation is: $ 37,677,619.12\n"
          ]
        }
      ]
    },
    {
      "cell_type": "markdown",
      "source": [
        "## CL units sold visualisation with standard deviation lines"
      ],
      "metadata": {
        "id": "ikLQ8jjFOY7r"
      }
    },
    {
      "cell_type": "code",
      "source": [
        "plt.figure(figsize=(8,5))\n",
        "plt.title(\"CL units sold standard deviation lines\")\n",
        "plt.ylim(-200, 500)\n",
        "plt.scatter(x=data.index, y=data[\"unit.cl\"], s=5)\n",
        "plt.hlines(y=data[\"unit.cl\"].mean(), xmin=0, xmax=35)\n",
        "\n",
        "for std_int in [-2, -1, 1, 2]: # Going through different standard deviations from the mean\n",
        "    standard_deviation = data[\"unit.cl\"].mean() + data[\"unit.cl\"].std() * std_int\n",
        "\n",
        "    plt.hlines( y=standard_deviation,\n",
        "                xmin = 0,\n",
        "                xmax = 35,\n",
        "                linestyle = \"dashed\",\n",
        "                colors = \"green\"); # 1 std above\n",
        "\n",
        "#  Label the lines\n",
        "    plt.text(y=standard_deviation + 2, x=-10, s=std_int, ha=\"center\")"
      ],
      "metadata": {
        "colab": {
          "base_uri": "https://localhost:8080/",
          "height": 336
        },
        "id": "vVJa4NoENYDq",
        "outputId": "5e0bc153-4c0d-4ab5-ff84-dda388a5dc8d"
      },
      "execution_count": null,
      "outputs": [
        {
          "output_type": "display_data",
          "data": {
            "image/png": "[encoded data removed]",
            "text/plain": [
              "<Figure size 576x360 with 1 Axes>"
            ]
          },
          "metadata": {
            "needs_background": "light"
          }
        }
      ]
    },
    {
      "cell_type": "markdown",
      "source": [
        "## CL average prices visualisation with standard deviation lines\n"
      ],
      "metadata": {
        "id": "sJ9XYcRAOo4p"
      }
    },
    {
      "cell_type": "code",
      "source": [
        "plt.figure(figsize=(8,5))\n",
        "plt.title(\"CL average prices standard deviation lines\")\n",
        "plt.ylim(0, 250000)\n",
        "plt.scatter(x=data.index, y=data[\"cl.class.average.price\"], s=5)\n",
        "plt.hlines(y=data[\"cl.class.average.price\"].mean(), xmin=0, xmax=35)\n",
        "\n",
        "for std_int in [-2, -1, 1, 2]: # Going through different standard deviations from the mean\n",
        "    standard_deviation = data[\"cl.class.average.price\"].mean() + data[\"cl.class.average.price\"].std() * std_int\n",
        "\n",
        "    plt.hlines( y=standard_deviation,\n",
        "                xmin = 0,\n",
        "                xmax = 35,\n",
        "                linestyle = \"dashed\",\n",
        "                colors = \"green\"); # 1 std above\n",
        "\n",
        "#  Label the lines\n",
        "    plt.text(y=standard_deviation + 2, x=-10, s=std_int, ha=\"center\")"
      ],
      "metadata": {
        "colab": {
          "base_uri": "https://localhost:8080/",
          "height": 336
        },
        "id": "bZDKzaesOwD9",
        "outputId": "e1006ca0-93da-43cb-d54f-057284ea0d31"
      },
      "execution_count": null,
      "outputs": [
        {
          "output_type": "display_data",
          "data": {
            "image/png": "[encoded data removed]",
            "text/plain": [
              "<Figure size 576x360 with 1 Axes>"
            ]
          },
          "metadata": {
            "needs_background": "light"
          }
        }
      ]
    },
    {
      "cell_type": "markdown",
      "source": [
        "## SL units sold visualisation with standard deviation lines"
      ],
      "metadata": {
        "id": "tkwYqO3MPfLZ"
      }
    },
    {
      "cell_type": "code",
      "source": [
        "plt.figure(figsize=(8,5))\n",
        "plt.title(\"SL units sold standard deviation lines\")\n",
        "plt.ylim(-400, 1200)\n",
        "plt.scatter(x=data.index, y=data[\"unit.sl\"], s=5)\n",
        "plt.hlines(y=data[\"unit.sl\"].mean(), xmin=0, xmax=35)\n",
        "\n",
        "for std_int in [-2, -1, 1, 2]: # Going through different standard deviations from the mean\n",
        "    standard_deviation = data[\"unit.sl\"].mean() + data[\"unit.sl\"].std() * std_int\n",
        "\n",
        "    plt.hlines( y=standard_deviation,\n",
        "                xmin = 0,\n",
        "                xmax = 35,\n",
        "                linestyle = \"dashed\",\n",
        "                colors = \"green\"); # 1 std above\n",
        "\n",
        "#  Label the lines\n",
        "    plt.text(y=standard_deviation + 2, x=-10, s=std_int, ha=\"center\")"
      ],
      "metadata": {
        "colab": {
          "base_uri": "https://localhost:8080/",
          "height": 336
        },
        "id": "pj1RhN8DPpKB",
        "outputId": "c389208a-759b-4abc-fb9f-65eebc864a91"
      },
      "execution_count": null,
      "outputs": [
        {
          "output_type": "display_data",
          "data": {
            "image/png": "[encoded data removed]",
            "text/plain": [
              "<Figure size 576x360 with 1 Axes>"
            ]
          },
          "metadata": {
            "needs_background": "light"
          }
        }
      ]
    },
    {
      "cell_type": "markdown",
      "source": [
        "## SL average prices visualisation with standard deviation lines"
      ],
      "metadata": {
        "id": "wQQs32-KQHy0"
      }
    },
    {
      "cell_type": "code",
      "source": [
        "plt.figure(figsize=(8,5))\n",
        "plt.title(\"SL average prices standard deviation lines\")\n",
        "plt.ylim(130000, 140000)\n",
        "plt.scatter(x=data.index, y=data[\"sl.class.average.price\"], s=5)\n",
        "plt.hlines(y=data[\"sl.class.average.price\"].mean(), xmin=0, xmax=35)\n",
        "\n",
        "for std_int in [-2, -1, 1, 2]: # Going through different standard deviations from the mean\n",
        "    standard_deviation = data[\"sl.class.average.price\"].mean() + data[\"sl.class.average.price\"].std() * std_int\n",
        "\n",
        "    plt.hlines( y=standard_deviation,\n",
        "                xmin = 0,\n",
        "                xmax = 35,\n",
        "                linestyle = \"dashed\",\n",
        "                colors = \"green\"); # 1 std above\n",
        "\n",
        "#  Label the lines\n",
        "    plt.text(y=standard_deviation + 2, x=-10, s=std_int, ha=\"center\")"
      ],
      "metadata": {
        "colab": {
          "base_uri": "https://localhost:8080/",
          "height": 336
        },
        "id": "f0uNdikLQJzW",
        "outputId": "2e100287-f2a7-41cf-86c2-7dfe449e4a5f"
      },
      "execution_count": null,
      "outputs": [
        {
          "output_type": "display_data",
          "data": {
            "image/png": "[encoded data removed]",
            "text/plain": [
              "<Figure size 576x360 with 1 Axes>"
            ]
          },
          "metadata": {
            "needs_background": "light"
          }
        }
      ]
    },
    {
      "cell_type": "markdown",
      "source": [
        "## CL total monthly revanue visualisation with standard deviation lines"
      ],
      "metadata": {
        "id": "2o6OYrYPQhtS"
      }
    },
    {
      "cell_type": "code",
      "source": [
        "plt.figure(figsize=(8,5))\n",
        "plt.title(\"CL total monthly revanue standard deviation lines ( In tens of millions )\")\n",
        "plt.ylim(-20000000, 80000000)\n",
        "plt.scatter(x=data.index, y=data[\"Total.revanue.CL\"], s=5)\n",
        "plt.hlines(y=data[\"Total.revanue.CL\"].mean(), xmin=0, xmax=35)\n",
        "\n",
        "for std_int in [-2, -1, 1, 2]: # Going through different standard deviations from the mean\n",
        "    standard_deviation = data[\"Total.revanue.CL\"].mean() + data[\"Total.revanue.CL\"].std() * std_int\n",
        "\n",
        "    plt.hlines( y=standard_deviation,\n",
        "                xmin = 0,\n",
        "                xmax = 35,\n",
        "                linestyle = \"dashed\",\n",
        "                colors = \"green\"); # 1 std above\n",
        "\n",
        "#  Label the lines\n",
        "    plt.text(y=standard_deviation + 2, x=-10, s=std_int, ha=\"center\")"
      ],
      "metadata": {
        "colab": {
          "base_uri": "https://localhost:8080/",
          "height": 336
        },
        "id": "jh8-iRU2QqRE",
        "outputId": "7f1547c2-c997-49c4-fe09-6bc5e1e5a143"
      },
      "execution_count": null,
      "outputs": [
        {
          "output_type": "display_data",
          "data": {
            "image/png": "[encoded data removed]",
            "text/plain": [
              "<Figure size 576x360 with 1 Axes>"
            ]
          },
          "metadata": {
            "needs_background": "light"
          }
        }
      ]
    },
    {
      "cell_type": "markdown",
      "source": [
        "## SL total monthly revanue visualisation with standard deviation lines"
      ],
      "metadata": {
        "id": "fhPZDNziRMzw"
      }
    },
    {
      "cell_type": "code",
      "source": [
        "plt.figure(figsize=(8,5))\n",
        "plt.title(\"SL total monthly revanue standard deviation lines ( In tens of millions )\")\n",
        "plt.ylim(-40000000, 200000000)\n",
        "plt.scatter(x=data.index, y=data[\"Total.revanue.SL\"], s=5)\n",
        "plt.hlines(y=data[\"Total.revanue.SL\"].mean(), xmin=0, xmax=35)\n",
        "\n",
        "for std_int in [-2, -1, 1, 2]: # Going through different standard deviations from the mean\n",
        "    standard_deviation = data[\"Total.revanue.SL\"].mean() + data[\"Total.revanue.SL\"].std() * std_int\n",
        "\n",
        "    plt.hlines( y=standard_deviation,\n",
        "                xmin = 0,\n",
        "                xmax = 35,\n",
        "                linestyle = \"dashed\",\n",
        "                colors = \"green\"); # 1 std above\n",
        "\n",
        "#  Label the lines\n",
        "    plt.text(y=standard_deviation + 2, x=-10, s=std_int, ha=\"center\")"
      ],
      "metadata": {
        "colab": {
          "base_uri": "https://localhost:8080/",
          "height": 336
        },
        "id": "0rgqwKnvRP3m",
        "outputId": "8f01ec3e-f284-4525-dc39-9fa304f0f6be"
      },
      "execution_count": null,
      "outputs": [
        {
          "output_type": "display_data",
          "data": {
            "image/png": "[encoded data removed]",
            "text/plain": [
              "<Figure size 576x360 with 1 Axes>"
            ]
          },
          "metadata": {
            "needs_background": "light"
          }
        }
      ]
    }
  ]
}